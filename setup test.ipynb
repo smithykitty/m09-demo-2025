{
 "cells": [
  {
   "cell_type": "code",
   "execution_count": null,
   "id": "4436abdc-2fe1-4cb9-a0e7-08a3f2c37e55",
   "metadata": {},
   "outputs": [],
   "source": [
    "setup(\n",
    "    name='Demo',\n",
    "    versio"
   ]
  }
 ],
 "metadata": {
  "kernelspec": {
   "display_name": "Python 3 (ipykernel)",
   "language": "python",
   "name": "python3"
  },
  "language_info": {
   "codemirror_mode": {
    "name": "ipython",
    "version": 3
   },
   "file_extension": ".py",
   "mimetype": "text/x-python",
   "name": "python",
   "nbconvert_exporter": "python",
   "pygments_lexer": "ipython3",
   "version": "3.11.4"
  }
 },
 "nbformat": 4,
 "nbformat_minor": 5
}
